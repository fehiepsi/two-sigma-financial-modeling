{
 "cells": [
  {
   "cell_type": "markdown",
   "metadata": {
    "_cell_guid": "8d5a3f37-c868-c548-82de-baea0db91ccc"
   },
   "source": [
    "# Introduction to the `kagglegym` API"
   ]
  },
  {
   "cell_type": "markdown",
   "metadata": {
    "_cell_guid": "b6b8f41b-d7e7-7023-638c-3f9d7fdac8fd"
   },
   "source": [
    "Code Competitions are a new style of competition where you submit code rather than the predictions that your code creates. This allows for new types of competitions like this time-series competition hosted by Two Sigma. This notebook gives an overview of the API, `kagglegym`, which was heavily influenced by [OpenAI's Gym](https://gym.openai.com/docs) API for reinforcement learning challenges."
   ]
  },
  {
   "cell_type": "markdown",
   "metadata": {
    "_cell_guid": "7546f382-9c11-d812-6140-032c0f4af058"
   },
   "source": [
    "## Data Overview\n",
    "\n",
    "Another difference with this competition is that we're using an [HDF5 file](https://support.hdfgroup.org/HDF5/) instead of a CSV file due to the size of the data. You can still easily read it and manipulate it for exploration:"
   ]
  },
  {
   "cell_type": "code",
   "execution_count": 6,
   "metadata": {
    "collapsed": true
   },
   "outputs": [],
   "source": [
    "import os\n",
    "import sys\n",
    "module_path = os.path.abspath(os.path.join('..'))\n",
    "if module_path not in sys.path:\n",
    "    sys.path.append(module_path)"
   ]
  },
  {
   "cell_type": "code",
   "execution_count": 2,
   "metadata": {
    "_cell_guid": "52661ab5-5738-e62f-d2ec-13ca951ec365",
    "collapsed": false
   },
   "outputs": [],
   "source": [
    "# Here's an example of loading the CSV using Pandas's built-in HDF5 support:\n",
    "import pandas as pd\n",
    "\n",
    "with pd.HDFStore(\"../data/train.h5\", \"r\") as train:\n",
    "    # Note that the \"train\" dataframe is the only dataframe in the file\n",
    "    df = train.get(\"train\")"
   ]
  },
  {
   "cell_type": "code",
   "execution_count": 3,
   "metadata": {
    "_cell_guid": "c2b0e8fd-7ea7-a875-16e5-44c853697892",
    "collapsed": false
   },
   "outputs": [
    {
     "data": {
      "text/plain": [
       "1710756"
      ]
     },
     "execution_count": 3,
     "metadata": {},
     "output_type": "execute_result"
    }
   ],
   "source": [
    "# Let's see how many rows are in full training set\n",
    "len(df)"
   ]
  },
  {
   "cell_type": "code",
   "execution_count": 4,
   "metadata": {
    "_cell_guid": "1f3977b0-9e38-3663-bf9f-5ff447e0d57c",
    "collapsed": false
   },
   "outputs": [
    {
     "data": {
      "text/html": [
       "<div>\n",
       "<table border=\"1\" class=\"dataframe\">\n",
       "  <thead>\n",
       "    <tr style=\"text-align: right;\">\n",
       "      <th></th>\n",
       "      <th>id</th>\n",
       "      <th>timestamp</th>\n",
       "      <th>derived_0</th>\n",
       "      <th>derived_1</th>\n",
       "      <th>derived_2</th>\n",
       "      <th>derived_3</th>\n",
       "      <th>derived_4</th>\n",
       "      <th>fundamental_0</th>\n",
       "      <th>fundamental_1</th>\n",
       "      <th>fundamental_2</th>\n",
       "      <th>...</th>\n",
       "      <th>technical_36</th>\n",
       "      <th>technical_37</th>\n",
       "      <th>technical_38</th>\n",
       "      <th>technical_39</th>\n",
       "      <th>technical_40</th>\n",
       "      <th>technical_41</th>\n",
       "      <th>technical_42</th>\n",
       "      <th>technical_43</th>\n",
       "      <th>technical_44</th>\n",
       "      <th>y</th>\n",
       "    </tr>\n",
       "  </thead>\n",
       "  <tbody>\n",
       "    <tr>\n",
       "      <th>0</th>\n",
       "      <td>10</td>\n",
       "      <td>0</td>\n",
       "      <td>0.370326</td>\n",
       "      <td>-0.006316</td>\n",
       "      <td>0.222831</td>\n",
       "      <td>-0.213030</td>\n",
       "      <td>0.729277</td>\n",
       "      <td>-0.335633</td>\n",
       "      <td>0.113292</td>\n",
       "      <td>1.621238</td>\n",
       "      <td>...</td>\n",
       "      <td>0.775208</td>\n",
       "      <td>NaN</td>\n",
       "      <td>NaN</td>\n",
       "      <td>NaN</td>\n",
       "      <td>-0.414776</td>\n",
       "      <td>NaN</td>\n",
       "      <td>NaN</td>\n",
       "      <td>-2.0</td>\n",
       "      <td>NaN</td>\n",
       "      <td>-0.011753</td>\n",
       "    </tr>\n",
       "    <tr>\n",
       "      <th>1</th>\n",
       "      <td>11</td>\n",
       "      <td>0</td>\n",
       "      <td>0.014765</td>\n",
       "      <td>-0.038064</td>\n",
       "      <td>-0.017425</td>\n",
       "      <td>0.320652</td>\n",
       "      <td>-0.034134</td>\n",
       "      <td>0.004413</td>\n",
       "      <td>0.114285</td>\n",
       "      <td>-0.210185</td>\n",
       "      <td>...</td>\n",
       "      <td>0.025590</td>\n",
       "      <td>NaN</td>\n",
       "      <td>NaN</td>\n",
       "      <td>NaN</td>\n",
       "      <td>-0.273607</td>\n",
       "      <td>NaN</td>\n",
       "      <td>NaN</td>\n",
       "      <td>-2.0</td>\n",
       "      <td>NaN</td>\n",
       "      <td>-0.001240</td>\n",
       "    </tr>\n",
       "    <tr>\n",
       "      <th>2</th>\n",
       "      <td>12</td>\n",
       "      <td>0</td>\n",
       "      <td>-0.010622</td>\n",
       "      <td>-0.050577</td>\n",
       "      <td>3.379575</td>\n",
       "      <td>-0.157525</td>\n",
       "      <td>-0.068550</td>\n",
       "      <td>-0.155937</td>\n",
       "      <td>1.219439</td>\n",
       "      <td>-0.764516</td>\n",
       "      <td>...</td>\n",
       "      <td>0.151881</td>\n",
       "      <td>NaN</td>\n",
       "      <td>NaN</td>\n",
       "      <td>NaN</td>\n",
       "      <td>-0.175710</td>\n",
       "      <td>NaN</td>\n",
       "      <td>NaN</td>\n",
       "      <td>-2.0</td>\n",
       "      <td>NaN</td>\n",
       "      <td>-0.020940</td>\n",
       "    </tr>\n",
       "    <tr>\n",
       "      <th>3</th>\n",
       "      <td>25</td>\n",
       "      <td>0</td>\n",
       "      <td>NaN</td>\n",
       "      <td>NaN</td>\n",
       "      <td>NaN</td>\n",
       "      <td>NaN</td>\n",
       "      <td>NaN</td>\n",
       "      <td>0.178495</td>\n",
       "      <td>NaN</td>\n",
       "      <td>-0.007262</td>\n",
       "      <td>...</td>\n",
       "      <td>1.035936</td>\n",
       "      <td>NaN</td>\n",
       "      <td>NaN</td>\n",
       "      <td>NaN</td>\n",
       "      <td>-0.211506</td>\n",
       "      <td>NaN</td>\n",
       "      <td>NaN</td>\n",
       "      <td>-2.0</td>\n",
       "      <td>NaN</td>\n",
       "      <td>-0.015959</td>\n",
       "    </tr>\n",
       "    <tr>\n",
       "      <th>4</th>\n",
       "      <td>26</td>\n",
       "      <td>0</td>\n",
       "      <td>0.176693</td>\n",
       "      <td>-0.025284</td>\n",
       "      <td>-0.057680</td>\n",
       "      <td>0.015100</td>\n",
       "      <td>0.180894</td>\n",
       "      <td>0.139445</td>\n",
       "      <td>-0.125687</td>\n",
       "      <td>-0.018707</td>\n",
       "      <td>...</td>\n",
       "      <td>0.630232</td>\n",
       "      <td>NaN</td>\n",
       "      <td>NaN</td>\n",
       "      <td>NaN</td>\n",
       "      <td>-0.001957</td>\n",
       "      <td>NaN</td>\n",
       "      <td>NaN</td>\n",
       "      <td>0.0</td>\n",
       "      <td>NaN</td>\n",
       "      <td>-0.007338</td>\n",
       "    </tr>\n",
       "  </tbody>\n",
       "</table>\n",
       "<p>5 rows × 111 columns</p>\n",
       "</div>"
      ],
      "text/plain": [
       "   id  timestamp  derived_0  derived_1  derived_2  derived_3  derived_4  \\\n",
       "0  10          0   0.370326  -0.006316   0.222831  -0.213030   0.729277   \n",
       "1  11          0   0.014765  -0.038064  -0.017425   0.320652  -0.034134   \n",
       "2  12          0  -0.010622  -0.050577   3.379575  -0.157525  -0.068550   \n",
       "3  25          0        NaN        NaN        NaN        NaN        NaN   \n",
       "4  26          0   0.176693  -0.025284  -0.057680   0.015100   0.180894   \n",
       "\n",
       "   fundamental_0  fundamental_1  fundamental_2    ...     technical_36  \\\n",
       "0      -0.335633       0.113292       1.621238    ...         0.775208   \n",
       "1       0.004413       0.114285      -0.210185    ...         0.025590   \n",
       "2      -0.155937       1.219439      -0.764516    ...         0.151881   \n",
       "3       0.178495            NaN      -0.007262    ...         1.035936   \n",
       "4       0.139445      -0.125687      -0.018707    ...         0.630232   \n",
       "\n",
       "   technical_37  technical_38  technical_39  technical_40  technical_41  \\\n",
       "0           NaN           NaN           NaN     -0.414776           NaN   \n",
       "1           NaN           NaN           NaN     -0.273607           NaN   \n",
       "2           NaN           NaN           NaN     -0.175710           NaN   \n",
       "3           NaN           NaN           NaN     -0.211506           NaN   \n",
       "4           NaN           NaN           NaN     -0.001957           NaN   \n",
       "\n",
       "   technical_42  technical_43  technical_44         y  \n",
       "0           NaN          -2.0           NaN -0.011753  \n",
       "1           NaN          -2.0           NaN -0.001240  \n",
       "2           NaN          -2.0           NaN -0.020940  \n",
       "3           NaN          -2.0           NaN -0.015959  \n",
       "4           NaN           0.0           NaN -0.007338  \n",
       "\n",
       "[5 rows x 111 columns]"
      ]
     },
     "execution_count": 4,
     "metadata": {},
     "output_type": "execute_result"
    }
   ],
   "source": [
    "df.head()"
   ]
  },
  {
   "cell_type": "code",
   "execution_count": 5,
   "metadata": {
    "_cell_guid": "70fa52ca-bdb8-1c19-87d2-04a47b14adfc",
    "collapsed": false
   },
   "outputs": [
    {
     "data": {
      "text/plain": [
       "1813"
      ]
     },
     "execution_count": 5,
     "metadata": {},
     "output_type": "execute_result"
    }
   ],
   "source": [
    "# How many timestamps are in the full training set?\n",
    "len(df[\"timestamp\"].unique())"
   ]
  },
  {
   "cell_type": "markdown",
   "metadata": {
    "_cell_guid": "a3cb5334-ce87-ed9c-909b-72e75c85f002"
   },
   "source": [
    "**Important Note**: the raw training file is only available for exploration kernels. It will not be available when you make a competition submission. You should only use the raw training file for exploration purposes."
   ]
  },
  {
   "cell_type": "markdown",
   "metadata": {
    "_cell_guid": "6ae1fcc2-069c-112f-c977-f9546ccb71ef"
   },
   "source": [
    "## API Overview"
   ]
  },
  {
   "cell_type": "markdown",
   "metadata": {
    "_cell_guid": "ad2513de-b73f-9d44-337c-93829a9530b1"
   },
   "source": [
    "The \"kagglegym\" API is based on OpenAI's Gym API, a toolkit for developing and comparing reinforcement learning algorithms. Read OpenAI's Gym API [documentation](https://gym.openai.com/docs) for more details. Note that ours is named \"kagglegym\" and not \"gym\" to prevent possible conflicts with OpenAI's \"gym\" library. This section will give an overview of the concepts to get you started on this competition.\n",
    "\n",
    "The API is exposed through a `kagglegym` library. Let's import it to get started:"
   ]
  },
  {
   "cell_type": "code",
   "execution_count": 8,
   "metadata": {
    "_cell_guid": "b96739f6-e510-05a4-6d7f-59dc93fedd24",
    "collapsed": false
   },
   "outputs": [],
   "source": [
    "from src import kagglegym"
   ]
  },
  {
   "cell_type": "markdown",
   "metadata": {
    "_cell_guid": "25b4762c-321b-2d9d-248a-c4b386db9b46"
   },
   "source": [
    "Now, we need to create an \"environment\". This will be our primary interface to the API. The `kagglegym` API has the concept of a default environment name for a competition, so just calling `make()` will create the appropriate one for this competition."
   ]
  },
  {
   "cell_type": "code",
   "execution_count": 9,
   "metadata": {
    "_cell_guid": "a6ce4309-fcb9-f3c3-cecd-f09f1145a395",
    "collapsed": true
   },
   "outputs": [],
   "source": [
    "# Create environment\n",
    "env = kagglegym.make()"
   ]
  },
  {
   "cell_type": "markdown",
   "metadata": {
    "_cell_guid": "1a600639-8b3a-05e0-0caf-f96821340500"
   },
   "source": [
    "To properly initialize things, we need to \"reset\" the environment. This will also give us our first \"observation\":"
   ]
  },
  {
   "cell_type": "code",
   "execution_count": 10,
   "metadata": {
    "_cell_guid": "bb2a766c-a5f3-a9ca-3f8e-0b7bd9614c62",
    "collapsed": true
   },
   "outputs": [],
   "source": [
    "# Get first observation\n",
    "observation = env.reset()"
   ]
  },
  {
   "cell_type": "markdown",
   "metadata": {
    "_cell_guid": "f99a14c5-4e94-cb69-6a41-803c78af4dd3"
   },
   "source": [
    "Observations are the means by which our code \"observes\" the world. The very first observation has a special property called \"train\" which is a dataframe which we can use to train our model:"
   ]
  },
  {
   "cell_type": "code",
   "execution_count": 11,
   "metadata": {
    "_cell_guid": "22576060-0211-d073-7754-a004456fed47",
    "collapsed": false
   },
   "outputs": [
    {
     "data": {
      "text/html": [
       "<div>\n",
       "<table border=\"1\" class=\"dataframe\">\n",
       "  <thead>\n",
       "    <tr style=\"text-align: right;\">\n",
       "      <th></th>\n",
       "      <th>id</th>\n",
       "      <th>timestamp</th>\n",
       "      <th>derived_0</th>\n",
       "      <th>derived_1</th>\n",
       "      <th>derived_2</th>\n",
       "      <th>derived_3</th>\n",
       "      <th>derived_4</th>\n",
       "      <th>fundamental_0</th>\n",
       "      <th>fundamental_1</th>\n",
       "      <th>fundamental_2</th>\n",
       "      <th>...</th>\n",
       "      <th>technical_36</th>\n",
       "      <th>technical_37</th>\n",
       "      <th>technical_38</th>\n",
       "      <th>technical_39</th>\n",
       "      <th>technical_40</th>\n",
       "      <th>technical_41</th>\n",
       "      <th>technical_42</th>\n",
       "      <th>technical_43</th>\n",
       "      <th>technical_44</th>\n",
       "      <th>y</th>\n",
       "    </tr>\n",
       "  </thead>\n",
       "  <tbody>\n",
       "    <tr>\n",
       "      <th>0</th>\n",
       "      <td>10</td>\n",
       "      <td>0</td>\n",
       "      <td>0.370326</td>\n",
       "      <td>-0.006316</td>\n",
       "      <td>0.222831</td>\n",
       "      <td>-0.213030</td>\n",
       "      <td>0.729277</td>\n",
       "      <td>-0.335633</td>\n",
       "      <td>0.113292</td>\n",
       "      <td>1.621238</td>\n",
       "      <td>...</td>\n",
       "      <td>0.775208</td>\n",
       "      <td>NaN</td>\n",
       "      <td>NaN</td>\n",
       "      <td>NaN</td>\n",
       "      <td>-0.414776</td>\n",
       "      <td>NaN</td>\n",
       "      <td>NaN</td>\n",
       "      <td>-2.0</td>\n",
       "      <td>NaN</td>\n",
       "      <td>-0.011753</td>\n",
       "    </tr>\n",
       "    <tr>\n",
       "      <th>1</th>\n",
       "      <td>11</td>\n",
       "      <td>0</td>\n",
       "      <td>0.014765</td>\n",
       "      <td>-0.038064</td>\n",
       "      <td>-0.017425</td>\n",
       "      <td>0.320652</td>\n",
       "      <td>-0.034134</td>\n",
       "      <td>0.004413</td>\n",
       "      <td>0.114285</td>\n",
       "      <td>-0.210185</td>\n",
       "      <td>...</td>\n",
       "      <td>0.025590</td>\n",
       "      <td>NaN</td>\n",
       "      <td>NaN</td>\n",
       "      <td>NaN</td>\n",
       "      <td>-0.273607</td>\n",
       "      <td>NaN</td>\n",
       "      <td>NaN</td>\n",
       "      <td>-2.0</td>\n",
       "      <td>NaN</td>\n",
       "      <td>-0.001240</td>\n",
       "    </tr>\n",
       "    <tr>\n",
       "      <th>2</th>\n",
       "      <td>12</td>\n",
       "      <td>0</td>\n",
       "      <td>-0.010622</td>\n",
       "      <td>-0.050577</td>\n",
       "      <td>3.379575</td>\n",
       "      <td>-0.157525</td>\n",
       "      <td>-0.068550</td>\n",
       "      <td>-0.155937</td>\n",
       "      <td>1.219439</td>\n",
       "      <td>-0.764516</td>\n",
       "      <td>...</td>\n",
       "      <td>0.151881</td>\n",
       "      <td>NaN</td>\n",
       "      <td>NaN</td>\n",
       "      <td>NaN</td>\n",
       "      <td>-0.175710</td>\n",
       "      <td>NaN</td>\n",
       "      <td>NaN</td>\n",
       "      <td>-2.0</td>\n",
       "      <td>NaN</td>\n",
       "      <td>-0.020940</td>\n",
       "    </tr>\n",
       "    <tr>\n",
       "      <th>3</th>\n",
       "      <td>25</td>\n",
       "      <td>0</td>\n",
       "      <td>NaN</td>\n",
       "      <td>NaN</td>\n",
       "      <td>NaN</td>\n",
       "      <td>NaN</td>\n",
       "      <td>NaN</td>\n",
       "      <td>0.178495</td>\n",
       "      <td>NaN</td>\n",
       "      <td>-0.007262</td>\n",
       "      <td>...</td>\n",
       "      <td>1.035936</td>\n",
       "      <td>NaN</td>\n",
       "      <td>NaN</td>\n",
       "      <td>NaN</td>\n",
       "      <td>-0.211506</td>\n",
       "      <td>NaN</td>\n",
       "      <td>NaN</td>\n",
       "      <td>-2.0</td>\n",
       "      <td>NaN</td>\n",
       "      <td>-0.015959</td>\n",
       "    </tr>\n",
       "    <tr>\n",
       "      <th>4</th>\n",
       "      <td>26</td>\n",
       "      <td>0</td>\n",
       "      <td>0.176693</td>\n",
       "      <td>-0.025284</td>\n",
       "      <td>-0.057680</td>\n",
       "      <td>0.015100</td>\n",
       "      <td>0.180894</td>\n",
       "      <td>0.139445</td>\n",
       "      <td>-0.125687</td>\n",
       "      <td>-0.018707</td>\n",
       "      <td>...</td>\n",
       "      <td>0.630232</td>\n",
       "      <td>NaN</td>\n",
       "      <td>NaN</td>\n",
       "      <td>NaN</td>\n",
       "      <td>-0.001957</td>\n",
       "      <td>NaN</td>\n",
       "      <td>NaN</td>\n",
       "      <td>0.0</td>\n",
       "      <td>NaN</td>\n",
       "      <td>-0.007338</td>\n",
       "    </tr>\n",
       "  </tbody>\n",
       "</table>\n",
       "<p>5 rows × 111 columns</p>\n",
       "</div>"
      ],
      "text/plain": [
       "   id  timestamp  derived_0  derived_1  derived_2  derived_3  derived_4  \\\n",
       "0  10          0   0.370326  -0.006316   0.222831  -0.213030   0.729277   \n",
       "1  11          0   0.014765  -0.038064  -0.017425   0.320652  -0.034134   \n",
       "2  12          0  -0.010622  -0.050577   3.379575  -0.157525  -0.068550   \n",
       "3  25          0        NaN        NaN        NaN        NaN        NaN   \n",
       "4  26          0   0.176693  -0.025284  -0.057680   0.015100   0.180894   \n",
       "\n",
       "   fundamental_0  fundamental_1  fundamental_2    ...     technical_36  \\\n",
       "0      -0.335633       0.113292       1.621238    ...         0.775208   \n",
       "1       0.004413       0.114285      -0.210185    ...         0.025590   \n",
       "2      -0.155937       1.219439      -0.764516    ...         0.151881   \n",
       "3       0.178495            NaN      -0.007262    ...         1.035936   \n",
       "4       0.139445      -0.125687      -0.018707    ...         0.630232   \n",
       "\n",
       "   technical_37  technical_38  technical_39  technical_40  technical_41  \\\n",
       "0           NaN           NaN           NaN     -0.414776           NaN   \n",
       "1           NaN           NaN           NaN     -0.273607           NaN   \n",
       "2           NaN           NaN           NaN     -0.175710           NaN   \n",
       "3           NaN           NaN           NaN     -0.211506           NaN   \n",
       "4           NaN           NaN           NaN     -0.001957           NaN   \n",
       "\n",
       "   technical_42  technical_43  technical_44         y  \n",
       "0           NaN          -2.0           NaN -0.011753  \n",
       "1           NaN          -2.0           NaN -0.001240  \n",
       "2           NaN          -2.0           NaN -0.020940  \n",
       "3           NaN          -2.0           NaN -0.015959  \n",
       "4           NaN           0.0           NaN -0.007338  \n",
       "\n",
       "[5 rows x 111 columns]"
      ]
     },
     "execution_count": 11,
     "metadata": {},
     "output_type": "execute_result"
    }
   ],
   "source": [
    "# Look at first few rows of the train dataframe\n",
    "observation.train.head()"
   ]
  },
  {
   "cell_type": "markdown",
   "metadata": {
    "_cell_guid": "b5c144fd-7db1-1b0e-7444-3fff3f804b07"
   },
   "source": [
    "Note that this \"train\" is about half the size of the full training dataframe. This is because we're in an exploratory mode where we simulate the full environment by reserving the first half of timestamps for training and the second half for simulating the public leaderboard."
   ]
  },
  {
   "cell_type": "code",
   "execution_count": 12,
   "metadata": {
    "_cell_guid": "b77f817b-25f9-b6fc-dc0b-e52f323e8689",
    "collapsed": false
   },
   "outputs": [
    {
     "data": {
      "text/plain": [
       "806298"
      ]
     },
     "execution_count": 12,
     "metadata": {},
     "output_type": "execute_result"
    }
   ],
   "source": [
    "# Get length of the train dataframe\n",
    "len(observation.train)"
   ]
  },
  {
   "cell_type": "code",
   "execution_count": 13,
   "metadata": {
    "_cell_guid": "ab485ea5-676f-3344-9a5a-a3e0aaefc350",
    "collapsed": false
   },
   "outputs": [
    {
     "data": {
      "text/plain": [
       "906"
      ]
     },
     "execution_count": 13,
     "metadata": {},
     "output_type": "execute_result"
    }
   ],
   "source": [
    "# Get number of unique timestamps in train\n",
    "len(observation.train[\"timestamp\"].unique())"
   ]
  },
  {
   "cell_type": "code",
   "execution_count": 14,
   "metadata": {
    "_cell_guid": "3f21bb47-8afb-4292-e3de-91e4b015f10b",
    "collapsed": false
   },
   "outputs": [
    {
     "data": {
      "text/plain": [
       "1813"
      ]
     },
     "execution_count": 14,
     "metadata": {},
     "output_type": "execute_result"
    }
   ],
   "source": [
    "# Note that this is half of all timestamps:\n",
    "len(df[\"timestamp\"].unique())"
   ]
  },
  {
   "cell_type": "code",
   "execution_count": 15,
   "metadata": {
    "_cell_guid": "4ac19220-f651-ceba-3907-1af4bee3c0fb",
    "collapsed": false
   },
   "outputs": [
    {
     "data": {
      "text/plain": [
       "(0, 905)"
      ]
     },
     "execution_count": 15,
     "metadata": {},
     "output_type": "execute_result"
    }
   ],
   "source": [
    "# Here's proof that it's the first half:\n",
    "unique_times = list(observation.train[\"timestamp\"].unique())\n",
    "(min(unique_times), max(unique_times))"
   ]
  },
  {
   "cell_type": "markdown",
   "metadata": {
    "_cell_guid": "b8d8c7d1-08f6-8ecf-5760-018c2466bb45"
   },
   "source": [
    "Each observation also has a \"features\" dataframe which contains features for the timestamp you'll be asked to predict in the next \"step.\" Note that these features are for timestamp 906 which is just passed the last training timestamp. Also, note that the \"features\" dataframe does *not* have the target \"y\" column:"
   ]
  },
  {
   "cell_type": "code",
   "execution_count": 16,
   "metadata": {
    "_cell_guid": "7d64aaa2-bfca-b4e4-eb59-4fdb9646daf7",
    "collapsed": false
   },
   "outputs": [
    {
     "data": {
      "text/html": [
       "<div>\n",
       "<table border=\"1\" class=\"dataframe\">\n",
       "  <thead>\n",
       "    <tr style=\"text-align: right;\">\n",
       "      <th></th>\n",
       "      <th>id</th>\n",
       "      <th>timestamp</th>\n",
       "      <th>derived_0</th>\n",
       "      <th>derived_1</th>\n",
       "      <th>derived_2</th>\n",
       "      <th>derived_3</th>\n",
       "      <th>derived_4</th>\n",
       "      <th>fundamental_0</th>\n",
       "      <th>fundamental_1</th>\n",
       "      <th>fundamental_2</th>\n",
       "      <th>...</th>\n",
       "      <th>technical_35</th>\n",
       "      <th>technical_36</th>\n",
       "      <th>technical_37</th>\n",
       "      <th>technical_38</th>\n",
       "      <th>technical_39</th>\n",
       "      <th>technical_40</th>\n",
       "      <th>technical_41</th>\n",
       "      <th>technical_42</th>\n",
       "      <th>technical_43</th>\n",
       "      <th>technical_44</th>\n",
       "    </tr>\n",
       "  </thead>\n",
       "  <tbody>\n",
       "    <tr>\n",
       "      <th>0</th>\n",
       "      <td>0</td>\n",
       "      <td>906</td>\n",
       "      <td>0.246848</td>\n",
       "      <td>0.102251</td>\n",
       "      <td>0.002781</td>\n",
       "      <td>-0.029337</td>\n",
       "      <td>0.400748</td>\n",
       "      <td>-0.273942</td>\n",
       "      <td>0.535335</td>\n",
       "      <td>0.243197</td>\n",
       "      <td>...</td>\n",
       "      <td>-0.083835</td>\n",
       "      <td>-0.193842</td>\n",
       "      <td>-4.642828e-10</td>\n",
       "      <td>-4.642828e-10</td>\n",
       "      <td>-4.436047e-10</td>\n",
       "      <td>-0.057845</td>\n",
       "      <td>-0.054224</td>\n",
       "      <td>4.406503e-05</td>\n",
       "      <td>-1.999907e+00</td>\n",
       "      <td>-0.052079</td>\n",
       "    </tr>\n",
       "    <tr>\n",
       "      <th>1</th>\n",
       "      <td>7</td>\n",
       "      <td>906</td>\n",
       "      <td>0.217796</td>\n",
       "      <td>1.922894</td>\n",
       "      <td>0.752644</td>\n",
       "      <td>-0.237133</td>\n",
       "      <td>0.149876</td>\n",
       "      <td>-0.324906</td>\n",
       "      <td>-0.110032</td>\n",
       "      <td>-0.493290</td>\n",
       "      <td>...</td>\n",
       "      <td>-0.003478</td>\n",
       "      <td>-0.139345</td>\n",
       "      <td>-1.562500e-02</td>\n",
       "      <td>-1.562500e-02</td>\n",
       "      <td>-1.562500e-02</td>\n",
       "      <td>-0.017113</td>\n",
       "      <td>-0.067621</td>\n",
       "      <td>-1.562500e-02</td>\n",
       "      <td>-3.330669e-16</td>\n",
       "      <td>0.010135</td>\n",
       "    </tr>\n",
       "    <tr>\n",
       "      <th>2</th>\n",
       "      <td>11</td>\n",
       "      <td>906</td>\n",
       "      <td>-0.074121</td>\n",
       "      <td>-0.057722</td>\n",
       "      <td>1.595148</td>\n",
       "      <td>0.311800</td>\n",
       "      <td>-0.003560</td>\n",
       "      <td>0.274813</td>\n",
       "      <td>0.088182</td>\n",
       "      <td>-0.170704</td>\n",
       "      <td>...</td>\n",
       "      <td>-0.073679</td>\n",
       "      <td>-0.083068</td>\n",
       "      <td>-3.359413e-15</td>\n",
       "      <td>-7.448059e-23</td>\n",
       "      <td>-7.128695e-01</td>\n",
       "      <td>-0.045347</td>\n",
       "      <td>-0.094896</td>\n",
       "      <td>-7.277103e-01</td>\n",
       "      <td>-1.968750e+00</td>\n",
       "      <td>0.025098</td>\n",
       "    </tr>\n",
       "    <tr>\n",
       "      <th>3</th>\n",
       "      <td>12</td>\n",
       "      <td>906</td>\n",
       "      <td>0.160421</td>\n",
       "      <td>-0.037247</td>\n",
       "      <td>0.455026</td>\n",
       "      <td>0.022488</td>\n",
       "      <td>0.154796</td>\n",
       "      <td>-0.079147</td>\n",
       "      <td>0.865164</td>\n",
       "      <td>0.016182</td>\n",
       "      <td>...</td>\n",
       "      <td>0.471345</td>\n",
       "      <td>0.467192</td>\n",
       "      <td>-5.463366e-24</td>\n",
       "      <td>-6.938400e-04</td>\n",
       "      <td>-6.144731e-33</td>\n",
       "      <td>-0.030753</td>\n",
       "      <td>-0.240190</td>\n",
       "      <td>0.000000e+00</td>\n",
       "      <td>-1.301181e-13</td>\n",
       "      <td>-0.001249</td>\n",
       "    </tr>\n",
       "    <tr>\n",
       "      <th>4</th>\n",
       "      <td>13</td>\n",
       "      <td>906</td>\n",
       "      <td>-0.025554</td>\n",
       "      <td>-0.046826</td>\n",
       "      <td>NaN</td>\n",
       "      <td>-0.026069</td>\n",
       "      <td>NaN</td>\n",
       "      <td>-0.049894</td>\n",
       "      <td>0.046646</td>\n",
       "      <td>NaN</td>\n",
       "      <td>...</td>\n",
       "      <td>0.115415</td>\n",
       "      <td>0.090820</td>\n",
       "      <td>-3.105529e-20</td>\n",
       "      <td>-1.614121e-21</td>\n",
       "      <td>0.000000e+00</td>\n",
       "      <td>-0.133357</td>\n",
       "      <td>-0.068176</td>\n",
       "      <td>-5.743766e-24</td>\n",
       "      <td>-3.330669e-16</td>\n",
       "      <td>0.019396</td>\n",
       "    </tr>\n",
       "  </tbody>\n",
       "</table>\n",
       "<p>5 rows × 110 columns</p>\n",
       "</div>"
      ],
      "text/plain": [
       "   id  timestamp  derived_0  derived_1  derived_2  derived_3  derived_4  \\\n",
       "0   0        906   0.246848   0.102251   0.002781  -0.029337   0.400748   \n",
       "1   7        906   0.217796   1.922894   0.752644  -0.237133   0.149876   \n",
       "2  11        906  -0.074121  -0.057722   1.595148   0.311800  -0.003560   \n",
       "3  12        906   0.160421  -0.037247   0.455026   0.022488   0.154796   \n",
       "4  13        906  -0.025554  -0.046826        NaN  -0.026069        NaN   \n",
       "\n",
       "   fundamental_0  fundamental_1  fundamental_2      ...       technical_35  \\\n",
       "0      -0.273942       0.535335       0.243197      ...          -0.083835   \n",
       "1      -0.324906      -0.110032      -0.493290      ...          -0.003478   \n",
       "2       0.274813       0.088182      -0.170704      ...          -0.073679   \n",
       "3      -0.079147       0.865164       0.016182      ...           0.471345   \n",
       "4      -0.049894       0.046646            NaN      ...           0.115415   \n",
       "\n",
       "   technical_36  technical_37  technical_38  technical_39  technical_40  \\\n",
       "0     -0.193842 -4.642828e-10 -4.642828e-10 -4.436047e-10     -0.057845   \n",
       "1     -0.139345 -1.562500e-02 -1.562500e-02 -1.562500e-02     -0.017113   \n",
       "2     -0.083068 -3.359413e-15 -7.448059e-23 -7.128695e-01     -0.045347   \n",
       "3      0.467192 -5.463366e-24 -6.938400e-04 -6.144731e-33     -0.030753   \n",
       "4      0.090820 -3.105529e-20 -1.614121e-21  0.000000e+00     -0.133357   \n",
       "\n",
       "   technical_41  technical_42  technical_43  technical_44  \n",
       "0     -0.054224  4.406503e-05 -1.999907e+00     -0.052079  \n",
       "1     -0.067621 -1.562500e-02 -3.330669e-16      0.010135  \n",
       "2     -0.094896 -7.277103e-01 -1.968750e+00      0.025098  \n",
       "3     -0.240190  0.000000e+00 -1.301181e-13     -0.001249  \n",
       "4     -0.068176 -5.743766e-24 -3.330669e-16      0.019396  \n",
       "\n",
       "[5 rows x 110 columns]"
      ]
     },
     "execution_count": 16,
     "metadata": {},
     "output_type": "execute_result"
    }
   ],
   "source": [
    "# Look at the first few rows of the features dataframe\n",
    "observation.features.head()"
   ]
  },
  {
   "cell_type": "markdown",
   "metadata": {
    "_cell_guid": "ab4788e9-c2ec-3b4e-ceda-afff6d82ebf7"
   },
   "source": [
    "The final part of observation is the \"target\" dataframe which is what we're asking you to fill in. It includes the \"id\"s for the timestamp next step."
   ]
  },
  {
   "cell_type": "code",
   "execution_count": 17,
   "metadata": {
    "_cell_guid": "4128c547-b744-bf57-20d9-642893df2411",
    "collapsed": false
   },
   "outputs": [
    {
     "data": {
      "text/html": [
       "<div>\n",
       "<table border=\"1\" class=\"dataframe\">\n",
       "  <thead>\n",
       "    <tr style=\"text-align: right;\">\n",
       "      <th></th>\n",
       "      <th>id</th>\n",
       "      <th>y</th>\n",
       "    </tr>\n",
       "  </thead>\n",
       "  <tbody>\n",
       "    <tr>\n",
       "      <th>0</th>\n",
       "      <td>0</td>\n",
       "      <td>0.0</td>\n",
       "    </tr>\n",
       "    <tr>\n",
       "      <th>1</th>\n",
       "      <td>7</td>\n",
       "      <td>0.0</td>\n",
       "    </tr>\n",
       "    <tr>\n",
       "      <th>2</th>\n",
       "      <td>11</td>\n",
       "      <td>0.0</td>\n",
       "    </tr>\n",
       "    <tr>\n",
       "      <th>3</th>\n",
       "      <td>12</td>\n",
       "      <td>0.0</td>\n",
       "    </tr>\n",
       "    <tr>\n",
       "      <th>4</th>\n",
       "      <td>13</td>\n",
       "      <td>0.0</td>\n",
       "    </tr>\n",
       "  </tbody>\n",
       "</table>\n",
       "</div>"
      ],
      "text/plain": [
       "   id    y\n",
       "0   0  0.0\n",
       "1   7  0.0\n",
       "2  11  0.0\n",
       "3  12  0.0\n",
       "4  13  0.0"
      ]
     },
     "execution_count": 17,
     "metadata": {},
     "output_type": "execute_result"
    }
   ],
   "source": [
    "# Look at the first few rows of the target dataframe\n",
    "observation.target.head()"
   ]
  },
  {
   "cell_type": "markdown",
   "metadata": {
    "_cell_guid": "a986731f-9aec-ec26-4bd8-176e5de711ab"
   },
   "source": [
    "This target is a valid submission for the step. The OpenAI Gym calls each step an \"action\". Each step of the environment returns four things: \"observation\", \"reward\", \"done\", and \"info\"."
   ]
  },
  {
   "cell_type": "code",
   "execution_count": 18,
   "metadata": {
    "_cell_guid": "7ec1c73b-c328-0f63-894f-3ab9e6839361",
    "collapsed": true
   },
   "outputs": [],
   "source": [
    "# Each step is an \"action\"\n",
    "action = observation.target\n",
    "\n",
    "# Each \"step\" of the environment returns four things:\n",
    "observation, reward, done, info = env.step(action)"
   ]
  },
  {
   "cell_type": "markdown",
   "metadata": {
    "_cell_guid": "b015d8ce-b928-a55b-0704-1033ede61ac7"
   },
   "source": [
    "The \"done\" variable tells us if we're done. In this case, we still have plenty of timestamps to go, so it returns \"False\"."
   ]
  },
  {
   "cell_type": "code",
   "execution_count": 19,
   "metadata": {
    "_cell_guid": "75ed1f19-96d9-1488-992b-5df778e936d6",
    "collapsed": false
   },
   "outputs": [
    {
     "data": {
      "text/plain": [
       "False"
      ]
     },
     "execution_count": 19,
     "metadata": {},
     "output_type": "execute_result"
    }
   ],
   "source": [
    "# Print done\n",
    "done"
   ]
  },
  {
   "cell_type": "markdown",
   "metadata": {
    "_cell_guid": "5b908ca2-7c5a-5bb8-7302-9c0133b88327"
   },
   "source": [
    "The \"info\" variable is just a dictionary used for debugging. In this particular environment, we only make use of it at the end (when \"done\" is True)."
   ]
  },
  {
   "cell_type": "code",
   "execution_count": 20,
   "metadata": {
    "_cell_guid": "3da42f7f-8fb2-9518-abca-ffe7601d9a60",
    "collapsed": false
   },
   "outputs": [
    {
     "data": {
      "text/plain": [
       "{}"
      ]
     },
     "execution_count": 20,
     "metadata": {},
     "output_type": "execute_result"
    }
   ],
   "source": [
    "# Print info\n",
    "info"
   ]
  },
  {
   "cell_type": "markdown",
   "metadata": {
    "_cell_guid": "ba2d5a9c-a6da-7929-ccc3-b638c5369059"
   },
   "source": [
    "We see that \"observation\" has the same properties as the one we get in \"reset\". However, notice that it's for the next \"timestamp\":"
   ]
  },
  {
   "cell_type": "code",
   "execution_count": 21,
   "metadata": {
    "_cell_guid": "be7b5c56-da97-8837-ba72-a39b41286c09",
    "collapsed": false
   },
   "outputs": [
    {
     "data": {
      "text/html": [
       "<div>\n",
       "<table border=\"1\" class=\"dataframe\">\n",
       "  <thead>\n",
       "    <tr style=\"text-align: right;\">\n",
       "      <th></th>\n",
       "      <th>id</th>\n",
       "      <th>timestamp</th>\n",
       "      <th>derived_0</th>\n",
       "      <th>derived_1</th>\n",
       "      <th>derived_2</th>\n",
       "      <th>derived_3</th>\n",
       "      <th>derived_4</th>\n",
       "      <th>fundamental_0</th>\n",
       "      <th>fundamental_1</th>\n",
       "      <th>fundamental_2</th>\n",
       "      <th>...</th>\n",
       "      <th>technical_35</th>\n",
       "      <th>technical_36</th>\n",
       "      <th>technical_37</th>\n",
       "      <th>technical_38</th>\n",
       "      <th>technical_39</th>\n",
       "      <th>technical_40</th>\n",
       "      <th>technical_41</th>\n",
       "      <th>technical_42</th>\n",
       "      <th>technical_43</th>\n",
       "      <th>technical_44</th>\n",
       "    </tr>\n",
       "  </thead>\n",
       "  <tbody>\n",
       "    <tr>\n",
       "      <th>0</th>\n",
       "      <td>0</td>\n",
       "      <td>907</td>\n",
       "      <td>0.241634</td>\n",
       "      <td>0.101084</td>\n",
       "      <td>0.002550</td>\n",
       "      <td>-0.028882</td>\n",
       "      <td>0.398276</td>\n",
       "      <td>-0.272570</td>\n",
       "      <td>0.538591</td>\n",
       "      <td>0.241426</td>\n",
       "      <td>...</td>\n",
       "      <td>-0.081623</td>\n",
       "      <td>-0.194489</td>\n",
       "      <td>-4.041816e-10</td>\n",
       "      <td>-4.041816e-10</td>\n",
       "      <td>-3.861803e-10</td>\n",
       "      <td>-0.057166</td>\n",
       "      <td>-0.055835</td>\n",
       "      <td>3.836084e-05</td>\n",
       "      <td>-1.999919e+00</td>\n",
       "      <td>-0.049153</td>\n",
       "    </tr>\n",
       "    <tr>\n",
       "      <th>1</th>\n",
       "      <td>7</td>\n",
       "      <td>907</td>\n",
       "      <td>0.204701</td>\n",
       "      <td>1.925502</td>\n",
       "      <td>0.753222</td>\n",
       "      <td>-0.237052</td>\n",
       "      <td>0.154132</td>\n",
       "      <td>-0.324891</td>\n",
       "      <td>-0.110032</td>\n",
       "      <td>-0.495813</td>\n",
       "      <td>...</td>\n",
       "      <td>-0.005009</td>\n",
       "      <td>-0.144726</td>\n",
       "      <td>-1.360235e-02</td>\n",
       "      <td>-1.360235e-02</td>\n",
       "      <td>-1.360235e-02</td>\n",
       "      <td>-0.017764</td>\n",
       "      <td>-0.087472</td>\n",
       "      <td>-1.360235e-02</td>\n",
       "      <td>-3.330669e-16</td>\n",
       "      <td>0.008787</td>\n",
       "    </tr>\n",
       "    <tr>\n",
       "      <th>2</th>\n",
       "      <td>11</td>\n",
       "      <td>907</td>\n",
       "      <td>-0.073517</td>\n",
       "      <td>-0.057697</td>\n",
       "      <td>1.611172</td>\n",
       "      <td>0.310672</td>\n",
       "      <td>-0.003293</td>\n",
       "      <td>0.272259</td>\n",
       "      <td>0.088949</td>\n",
       "      <td>-0.171558</td>\n",
       "      <td>...</td>\n",
       "      <td>-0.071035</td>\n",
       "      <td>-0.082874</td>\n",
       "      <td>-2.924539e-15</td>\n",
       "      <td>-6.483912e-23</td>\n",
       "      <td>-7.500384e-01</td>\n",
       "      <td>-0.045536</td>\n",
       "      <td>-0.104290</td>\n",
       "      <td>-7.629580e-01</td>\n",
       "      <td>-1.972795e+00</td>\n",
       "      <td>0.021927</td>\n",
       "    </tr>\n",
       "    <tr>\n",
       "      <th>3</th>\n",
       "      <td>12</td>\n",
       "      <td>907</td>\n",
       "      <td>0.160591</td>\n",
       "      <td>-0.037544</td>\n",
       "      <td>0.450525</td>\n",
       "      <td>0.021005</td>\n",
       "      <td>0.153457</td>\n",
       "      <td>-0.077793</td>\n",
       "      <td>0.858471</td>\n",
       "      <td>0.016490</td>\n",
       "      <td>...</td>\n",
       "      <td>0.474488</td>\n",
       "      <td>0.469150</td>\n",
       "      <td>-4.756136e-24</td>\n",
       "      <td>-6.040228e-04</td>\n",
       "      <td>-5.349299e-33</td>\n",
       "      <td>-0.030443</td>\n",
       "      <td>-0.222433</td>\n",
       "      <td>0.000000e+00</td>\n",
       "      <td>-1.132427e-13</td>\n",
       "      <td>-0.001827</td>\n",
       "    </tr>\n",
       "    <tr>\n",
       "      <th>4</th>\n",
       "      <td>13</td>\n",
       "      <td>907</td>\n",
       "      <td>-0.025554</td>\n",
       "      <td>-0.046826</td>\n",
       "      <td>NaN</td>\n",
       "      <td>-0.026069</td>\n",
       "      <td>NaN</td>\n",
       "      <td>-0.049894</td>\n",
       "      <td>0.046646</td>\n",
       "      <td>NaN</td>\n",
       "      <td>...</td>\n",
       "      <td>0.115415</td>\n",
       "      <td>0.090820</td>\n",
       "      <td>-2.703520e-20</td>\n",
       "      <td>-1.405174e-21</td>\n",
       "      <td>0.000000e+00</td>\n",
       "      <td>-0.133357</td>\n",
       "      <td>-0.054863</td>\n",
       "      <td>-5.000239e-24</td>\n",
       "      <td>-3.330669e-16</td>\n",
       "      <td>0.019338</td>\n",
       "    </tr>\n",
       "  </tbody>\n",
       "</table>\n",
       "<p>5 rows × 110 columns</p>\n",
       "</div>"
      ],
      "text/plain": [
       "   id  timestamp  derived_0  derived_1  derived_2  derived_3  derived_4  \\\n",
       "0   0        907   0.241634   0.101084   0.002550  -0.028882   0.398276   \n",
       "1   7        907   0.204701   1.925502   0.753222  -0.237052   0.154132   \n",
       "2  11        907  -0.073517  -0.057697   1.611172   0.310672  -0.003293   \n",
       "3  12        907   0.160591  -0.037544   0.450525   0.021005   0.153457   \n",
       "4  13        907  -0.025554  -0.046826        NaN  -0.026069        NaN   \n",
       "\n",
       "   fundamental_0  fundamental_1  fundamental_2      ...       technical_35  \\\n",
       "0      -0.272570       0.538591       0.241426      ...          -0.081623   \n",
       "1      -0.324891      -0.110032      -0.495813      ...          -0.005009   \n",
       "2       0.272259       0.088949      -0.171558      ...          -0.071035   \n",
       "3      -0.077793       0.858471       0.016490      ...           0.474488   \n",
       "4      -0.049894       0.046646            NaN      ...           0.115415   \n",
       "\n",
       "   technical_36  technical_37  technical_38  technical_39  technical_40  \\\n",
       "0     -0.194489 -4.041816e-10 -4.041816e-10 -3.861803e-10     -0.057166   \n",
       "1     -0.144726 -1.360235e-02 -1.360235e-02 -1.360235e-02     -0.017764   \n",
       "2     -0.082874 -2.924539e-15 -6.483912e-23 -7.500384e-01     -0.045536   \n",
       "3      0.469150 -4.756136e-24 -6.040228e-04 -5.349299e-33     -0.030443   \n",
       "4      0.090820 -2.703520e-20 -1.405174e-21  0.000000e+00     -0.133357   \n",
       "\n",
       "   technical_41  technical_42  technical_43  technical_44  \n",
       "0     -0.055835  3.836084e-05 -1.999919e+00     -0.049153  \n",
       "1     -0.087472 -1.360235e-02 -3.330669e-16      0.008787  \n",
       "2     -0.104290 -7.629580e-01 -1.972795e+00      0.021927  \n",
       "3     -0.222433  0.000000e+00 -1.132427e-13     -0.001827  \n",
       "4     -0.054863 -5.000239e-24 -3.330669e-16      0.019338  \n",
       "\n",
       "[5 rows x 110 columns]"
      ]
     },
     "execution_count": 21,
     "metadata": {},
     "output_type": "execute_result"
    }
   ],
   "source": [
    "# Look at the first few rows of the observation dataframe for the next timestamp\n",
    "observation.features.head()"
   ]
  },
  {
   "cell_type": "code",
   "execution_count": 22,
   "metadata": {
    "_cell_guid": "805a4752-a663-a1fb-e02e-fa1af93f188c",
    "collapsed": false
   },
   "outputs": [
    {
     "data": {
      "text/plain": [
       "968"
      ]
     },
     "execution_count": 22,
     "metadata": {},
     "output_type": "execute_result"
    }
   ],
   "source": [
    "# Note that this timestamp has more id's/rows\n",
    "len(observation.features)"
   ]
  },
  {
   "cell_type": "markdown",
   "metadata": {
    "_cell_guid": "bdac05aa-0577-ba4d-9e0e-f5aa4f59e27d"
   },
   "source": [
    "Perhaps most interesting is the \"reward\" variable. This tells you how well you're doing. The goal in reinforcement contexts is that you want to maximize the reward. In this competition, we're using the R value that ranges from -1 to 1 (higher is better). Note that we submitted all 0's, so we got a score that's below 0. If we had correctly predicted the true mean value, we would have gotten all zeros. If we had made extreme predictions (e.g. all `-1000`'s) then our score would have been capped to -1."
   ]
  },
  {
   "cell_type": "code",
   "execution_count": 24,
   "metadata": {
    "_cell_guid": "028c5436-e8cf-a32a-7a3e-b0821f76833d",
    "collapsed": false
   },
   "outputs": [
    {
     "data": {
      "text/plain": [
       "-0.2000274424971549"
      ]
     },
     "execution_count": 24,
     "metadata": {},
     "output_type": "execute_result"
    }
   ],
   "source": [
    "# Print reward\n",
    "reward"
   ]
  },
  {
   "cell_type": "markdown",
   "metadata": {
    "_cell_guid": "abc54f05-94b0-9815-a394-4b0317e4a321"
   },
   "source": [
    "Since we're in exploratory mode, we have access to the ground truth (obviously not available in submit mode):"
   ]
  },
  {
   "cell_type": "code",
   "execution_count": 25,
   "metadata": {
    "_cell_guid": "3a09668e-f4aa-852d-d708-9103dffa7cac",
    "collapsed": true
   },
   "outputs": [],
   "source": [
    "perfect_action = df[df[\"timestamp\"] == observation.features[\"timestamp\"][0]][[\"id\", \"y\"]].reset_index(drop=True)"
   ]
  },
  {
   "cell_type": "code",
   "execution_count": 26,
   "metadata": {
    "_cell_guid": "70c9a9cf-a3ac-9d6d-2f86-631c32df1a6a",
    "collapsed": false
   },
   "outputs": [
    {
     "data": {
      "text/html": [
       "<div>\n",
       "<table border=\"1\" class=\"dataframe\">\n",
       "  <thead>\n",
       "    <tr style=\"text-align: right;\">\n",
       "      <th></th>\n",
       "      <th>id</th>\n",
       "      <th>y</th>\n",
       "    </tr>\n",
       "  </thead>\n",
       "  <tbody>\n",
       "    <tr>\n",
       "      <th>0</th>\n",
       "      <td>0</td>\n",
       "      <td>-0.003758</td>\n",
       "    </tr>\n",
       "    <tr>\n",
       "      <th>1</th>\n",
       "      <td>7</td>\n",
       "      <td>-0.009357</td>\n",
       "    </tr>\n",
       "    <tr>\n",
       "      <th>2</th>\n",
       "      <td>11</td>\n",
       "      <td>-0.001851</td>\n",
       "    </tr>\n",
       "    <tr>\n",
       "      <th>3</th>\n",
       "      <td>12</td>\n",
       "      <td>0.003090</td>\n",
       "    </tr>\n",
       "    <tr>\n",
       "      <th>4</th>\n",
       "      <td>13</td>\n",
       "      <td>0.008478</td>\n",
       "    </tr>\n",
       "  </tbody>\n",
       "</table>\n",
       "</div>"
      ],
      "text/plain": [
       "   id         y\n",
       "0   0 -0.003758\n",
       "1   7 -0.009357\n",
       "2  11 -0.001851\n",
       "3  12  0.003090\n",
       "4  13  0.008478"
      ]
     },
     "execution_count": 26,
     "metadata": {},
     "output_type": "execute_result"
    }
   ],
   "source": [
    "# Look at the first few rows of perfect action\n",
    "perfect_action.head()"
   ]
  },
  {
   "cell_type": "markdown",
   "metadata": {
    "_cell_guid": "414dec1d-77e9-de10-6cc3-515dff38652c"
   },
   "source": [
    "Let's see what happens when we submit a \"perfect\" action:"
   ]
  },
  {
   "cell_type": "code",
   "execution_count": 27,
   "metadata": {
    "_cell_guid": "b2ccf47c-a94f-8760-24c5-ff18206c85ce",
    "collapsed": true
   },
   "outputs": [],
   "source": [
    "# Submit a perfect action\n",
    "observation, reward, done, info = env.step(perfect_action)"
   ]
  },
  {
   "cell_type": "markdown",
   "metadata": {
    "_cell_guid": "32cfb80b-df2f-75d9-e66c-c6aaca10091d"
   },
   "source": [
    "As expected, we get the maximum reward of 1 by submitting the perfect value:"
   ]
  },
  {
   "cell_type": "code",
   "execution_count": 28,
   "metadata": {
    "_cell_guid": "5f5e60aa-e0e0-dd4b-60b6-0743d39387d4",
    "collapsed": false
   },
   "outputs": [
    {
     "data": {
      "text/plain": [
       "1.0"
      ]
     },
     "execution_count": 28,
     "metadata": {},
     "output_type": "execute_result"
    }
   ],
   "source": [
    "# Print reward\n",
    "reward"
   ]
  },
  {
   "cell_type": "markdown",
   "metadata": {
    "_cell_guid": "3f793a40-b732-4b16-1b24-219af46a32f7"
   },
   "source": [
    "## Making a complete submission"
   ]
  },
  {
   "cell_type": "markdown",
   "metadata": {
    "_cell_guid": "5622d9a1-171b-4106-6822-0ec22edbea37"
   },
   "source": [
    "We've covered all of the basic components of the `kagglegym` API. You now know how to create an environment for the competition, get observations, examine features, and submit target values for a reward. But, we're still not done as there are more observations/timestamps left."
   ]
  },
  {
   "cell_type": "code",
   "execution_count": 29,
   "metadata": {
    "_cell_guid": "b1574436-d2d6-e613-c5ef-599e818aea20",
    "collapsed": false
   },
   "outputs": [
    {
     "data": {
      "text/plain": [
       "False"
      ]
     },
     "execution_count": 29,
     "metadata": {},
     "output_type": "execute_result"
    }
   ],
   "source": [
    "# Print done ... still more timestamps remaining\n",
    "done"
   ]
  },
  {
   "cell_type": "markdown",
   "metadata": {
    "_cell_guid": "5533b16b-89ac-6cb1-82b9-1bb412e4405a"
   },
   "source": [
    "Now that we've gotten the basics out of the way, we can create a basic loop until we're \"done\". That is, we'll make a prediction for the remaining timestamp in the data:"
   ]
  },
  {
   "cell_type": "code",
   "execution_count": 30,
   "metadata": {
    "_cell_guid": "26878420-9841-ba94-8082-edcbbfa619a3",
    "collapsed": false
   },
   "outputs": [
    {
     "name": "stdout",
     "output_type": "stream",
     "text": [
      "Timestamp #1000\n",
      "Timestamp #1100\n",
      "Timestamp #1200\n",
      "Timestamp #1300\n",
      "Timestamp #1400\n",
      "Timestamp #1500\n",
      "Timestamp #1600\n",
      "Timestamp #1700\n",
      "Timestamp #1800\n"
     ]
    }
   ],
   "source": [
    "while True:\n",
    "    target = observation.target\n",
    "    timestamp = observation.features[\"timestamp\"][0]\n",
    "    if timestamp % 100 == 0:\n",
    "        print(\"Timestamp #{}\".format(timestamp))\n",
    "\n",
    "    observation, reward, done, info = env.step(target)\n",
    "    if done:        \n",
    "        break"
   ]
  },
  {
   "cell_type": "markdown",
   "metadata": {
    "_cell_guid": "427c3be2-4edc-d8e5-fa29-af4ca52d3979"
   },
   "source": [
    "Now we can confirm that we're done:"
   ]
  },
  {
   "cell_type": "code",
   "execution_count": 31,
   "metadata": {
    "_cell_guid": "24c91df9-866d-b723-2f2f-d7d7f429e467",
    "collapsed": false
   },
   "outputs": [
    {
     "data": {
      "text/plain": [
       "True"
      ]
     },
     "execution_count": 31,
     "metadata": {},
     "output_type": "execute_result"
    }
   ],
   "source": [
    "# Print done\n",
    "done"
   ]
  },
  {
   "cell_type": "markdown",
   "metadata": {
    "_cell_guid": "89749451-c76a-3712-82ab-e2d9c4946727"
   },
   "source": [
    "And since we're \"done\", we can take a look at at \"info\", our dictionary used for debugging. Recall that in this environment, we only make use of it when \"done\" is True."
   ]
  },
  {
   "cell_type": "code",
   "execution_count": 32,
   "metadata": {
    "_cell_guid": "4e4517a3-8031-b073-14ea-99c0e01d43c8",
    "collapsed": false
   },
   "outputs": [
    {
     "data": {
      "text/plain": [
       "{'public_score': 0.016651181430087304}"
      ]
     },
     "execution_count": 32,
     "metadata": {},
     "output_type": "execute_result"
    }
   ],
   "source": [
    "# Print info\n",
    "info"
   ]
  },
  {
   "cell_type": "markdown",
   "metadata": {
    "_cell_guid": "db81d92b-3040-ebdb-aa90-d7f050450a48"
   },
   "source": [
    "Our score is better than 0 because we had that one submission that was perfect."
   ]
  },
  {
   "cell_type": "code",
   "execution_count": 33,
   "metadata": {
    "_cell_guid": "aad4e656-7e00-6f03-9dfa-a7eafb6b57f7",
    "collapsed": false
   },
   "outputs": [
    {
     "data": {
      "text/plain": [
       "0.016651181430087304"
      ]
     },
     "execution_count": 33,
     "metadata": {},
     "output_type": "execute_result"
    }
   ],
   "source": [
    "# Print \"public score\" from info\n",
    "info[\"public_score\"]"
   ]
  },
  {
   "cell_type": "markdown",
   "metadata": {
    "_cell_guid": "cb36ef25-0b04-fcc5-4fbf-4065ff7213ba"
   },
   "source": [
    "This concludes our overview of the `kagglegym` API. We encourage you to ask questions in the competition forums or share public kernels for feedback on your approach. Good luck!"
   ]
  }
 ],
 "metadata": {
  "_change_revision": 273,
  "_is_fork": false,
  "kernelspec": {
   "display_name": "Python [default]",
   "language": "python",
   "name": "python3"
  },
  "language_info": {
   "codemirror_mode": {
    "name": "ipython",
    "version": 3
   },
   "file_extension": ".py",
   "mimetype": "text/x-python",
   "name": "python",
   "nbconvert_exporter": "python",
   "pygments_lexer": "ipython3",
   "version": "3.5.2"
  }
 },
 "nbformat": 4,
 "nbformat_minor": 0
}
