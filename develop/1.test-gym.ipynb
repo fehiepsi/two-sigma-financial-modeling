{
 "cells": [
  {
   "cell_type": "code",
   "execution_count": 5,
   "metadata": {
    "collapsed": true
   },
   "outputs": [],
   "source": [
    "import os\n",
    "import sys\n",
    "module_path = os.path.abspath(os.path.join('..'))\n",
    "if module_path not in sys.path:\n",
    "    sys.path.append(module_path)"
   ]
  },
  {
   "cell_type": "code",
   "execution_count": 6,
   "metadata": {
    "collapsed": false
   },
   "outputs": [
    {
     "name": "stdout",
     "output_type": "stream",
     "text": [
      "968\n",
      "806298\n",
      "{'public_score': -0.42791845523709543}\n",
      "906\n",
      "[-0.57244240701870674, -0.69602355761934143, -0.76969605094330085, -0.88292556152797097, -0.77409471948462827, -0.62031952966389658, -0.39146488525587475, -0.84779897534426341, -0.45051451441360757, -0.56453402316570156, -0.89329857536073409, -0.81062686366326098, -0.61593843763923251, -0.67321374079183682, -0.82632908490446888]\n"
     ]
    }
   ],
   "source": [
    "from src import kagglegym\n",
    "\n",
    "env = kagglegym.make()\n",
    "observation = env.reset()\n",
    "\n",
    "print(len(observation.target))\n",
    "print(len(observation.train))\n",
    "\n",
    "n = 0\n",
    "rewards = []\n",
    "while True:\n",
    "    target = observation.target\n",
    "    target.loc[:, 'y'] = 0.01\n",
    "    observation, reward, done, info = env.step(target)\n",
    "    if done:\n",
    "        break\n",
    "    rewards.append(reward)\n",
    "    n = n + 1\n",
    "\n",
    "print(info)\n",
    "print(n)\n",
    "print(rewards[0:15])"
   ]
  }
 ],
 "metadata": {
  "kernelspec": {
   "display_name": "Python [conda env:pydata]",
   "language": "python",
   "name": "conda-env-pydata-py"
  },
  "language_info": {
   "codemirror_mode": {
    "name": "ipython",
    "version": 3
   },
   "file_extension": ".py",
   "mimetype": "text/x-python",
   "name": "python",
   "nbconvert_exporter": "python",
   "pygments_lexer": "ipython3",
   "version": "3.5.2"
  }
 },
 "nbformat": 4,
 "nbformat_minor": 2
}
